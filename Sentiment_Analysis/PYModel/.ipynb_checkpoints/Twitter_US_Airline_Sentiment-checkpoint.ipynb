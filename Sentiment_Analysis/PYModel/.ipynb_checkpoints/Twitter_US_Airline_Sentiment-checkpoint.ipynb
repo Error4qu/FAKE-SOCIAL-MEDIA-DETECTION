{
 "cells": [
  {
   "cell_type": "code",
   "execution_count": 1,
   "id": "171c917b-3050-4a5a-b55d-8012af8f5184",
   "metadata": {},
   "outputs": [
    {
     "name": "stdout",
     "output_type": "stream",
     "text": [
      "Accuracy: 0.7721994535519126\n",
      "Classification Report:\n",
      "               precision    recall  f1-score   support\n",
      "\n",
      "    negative       0.78      0.96      0.86      1889\n",
      "     neutral       0.68      0.40      0.50       580\n",
      "    positive       0.81      0.47      0.59       459\n",
      "\n",
      "    accuracy                           0.77      2928\n",
      "   macro avg       0.76      0.61      0.65      2928\n",
      "weighted avg       0.77      0.77      0.75      2928\n",
      "\n"
     ]
    }
   ],
   "source": [
    "import pandas as pd\n",
    "from sklearn.model_selection import train_test_split\n",
    "from sklearn.feature_extraction.text import TfidfVectorizer\n",
    "from sklearn.ensemble import RandomForestClassifier\n",
    "from sklearn.metrics import accuracy_score, classification_report\n",
    "\n",
    "# Load the Twitter US Airline dataset\n",
    "df = pd.read_csv(r\"C:\\Users\\91875\\Desktop\\smart\\Fake-SocialMedia-Detection\\Sentiment_Analysis\\Data_S\\Twitter_airline_sentiment\\Tweets.csv\")\n",
    "\n",
    "# Preprocess the data (target labels: positive, negative, neutral)\n",
    "df = df[df['airline_sentiment'].notnull()]\n",
    "X = df['text']\n",
    "y = df['airline_sentiment']\n",
    "\n",
    "# Split the dataset into train and test\n",
    "X_train, X_test, y_train, y_test = train_test_split(X, y, test_size=0.2, random_state=42)\n",
    "\n",
    "# Vectorize the text using TF-IDF\n",
    "vectorizer = TfidfVectorizer(max_features=5000)\n",
    "X_train_vec = vectorizer.fit_transform(X_train)\n",
    "X_test_vec = vectorizer.transform(X_test)\n",
    "\n",
    "# Train a Random Forest model\n",
    "model = RandomForestClassifier(n_estimators=100, random_state=42)\n",
    "model.fit(X_train_vec, y_train)\n",
    "\n",
    "# Evaluate the model\n",
    "y_pred = model.predict(X_test_vec)\n",
    "print('Accuracy:', accuracy_score(y_test, y_pred))\n",
    "print('Classification Report:\\n', classification_report(y_test, y_pred))\n",
    "\n",
    "# Load additional data from airlinesin.csv\n",
    "input_file = r\"C:\\Users\\91875\\Desktop\\smart\\Fake-SocialMedia-Detection\\Datatransition\\airlinesin.csv\"\n",
    "input_data = pd.read_csv(input_file)\n",
    "\n",
    "# Vectorize the new input text\n",
    "input_vec = vectorizer.transform(input_data['text'])\n",
    "\n",
    "# Predict sentiments for the new input data\n",
    "input_predictions = model.predict(input_vec)\n",
    "\n",
    "# Save the predictions to airlinesou.csv\n",
    "output_file = r\"C:\\Users\\91875\\Desktop\\smart\\Fake-SocialMedia-Detection\\Datatransition\\airlinesou.csv\"\n",
    "output_df = pd.DataFrame({'text': input_data['text'], 'predicted_sentiment': input_predictions})\n",
    "output_df.to_csv(output_file, index=False)\n"
   ]
  },
  {
   "cell_type": "code",
   "execution_count": null,
   "id": "7c460b1a-b008-4592-a9dd-e01da257ca07",
   "metadata": {},
   "outputs": [],
   "source": []
  }
 ],
 "metadata": {
  "kernelspec": {
   "display_name": "Python 3 (ipykernel)",
   "language": "python",
   "name": "python3"
  },
  "language_info": {
   "codemirror_mode": {
    "name": "ipython",
    "version": 3
   },
   "file_extension": ".py",
   "mimetype": "text/x-python",
   "name": "python",
   "nbconvert_exporter": "python",
   "pygments_lexer": "ipython3",
   "version": "3.11.7"
  }
 },
 "nbformat": 4,
 "nbformat_minor": 5
}
